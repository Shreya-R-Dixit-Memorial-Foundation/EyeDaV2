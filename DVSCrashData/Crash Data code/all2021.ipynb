{
 "cells": [
  {
   "cell_type": "code",
   "execution_count": 1,
   "id": "d1c7d004-c1d1-4e51-a8ff-83769bbb1204",
   "metadata": {},
   "outputs": [
    {
     "name": "stdout",
     "output_type": "stream",
     "text": [
      "          XCOORD     YCOORD\n",
      "0      44.824525 -93.308934\n",
      "1      45.195682 -93.665049\n",
      "2      43.748654 -96.430726\n",
      "3      44.925408 -92.966061\n",
      "4      44.725392 -93.217754\n",
      "...          ...        ...\n",
      "62881  45.570115 -94.229752\n",
      "62882  44.021694 -92.485439\n",
      "62883  45.021517 -93.901470\n",
      "62884  46.425960 -94.315193\n",
      "62885  45.088669 -93.734418\n",
      "\n",
      "[62886 rows x 2 columns]\n"
     ]
    }
   ],
   "source": [
    "import pandas as pd\n",
    "data = pd.read_csv(\"acc.csv\")\n",
    "features = data[['XCOORD', 'YCOORD']]\n",
    "print(features)"
   ]
  },
  {
   "cell_type": "code",
   "execution_count": 2,
   "id": "8c106221-0617-44a2-aa79-0aeccef8efe6",
   "metadata": {},
   "outputs": [
    {
     "name": "stdout",
     "output_type": "stream",
     "text": [
      "cluster\n",
      "0     10173\n",
      "1      1182\n",
      "2      2719\n",
      "3      1180\n",
      "4      2668\n",
      "5      4048\n",
      "6        59\n",
      "7      1984\n",
      "8      1296\n",
      "9      2016\n",
      "10     2388\n",
      "11    16865\n",
      "12     8645\n",
      "13     1925\n",
      "14     4287\n",
      "15     1451\n",
      "Name: cluster, dtype: int64\n"
     ]
    }
   ],
   "source": [
    "from sklearn.cluster import KMeans\n",
    "kmeans = KMeans(\n",
    "    init=\"random\",\n",
    "    n_clusters=16,\n",
    "    n_init=10,\n",
    "    max_iter=300,\n",
    "    random_state=42\n",
    ")\n",
    "\n",
    "kmeans.fit(features)\n",
    "labels = kmeans.labels_\n",
    "\n",
    "data['cluster'] = labels\n",
    "_clusters = data.groupby('cluster')['cluster'].count()\n",
    "print(_clusters)"
   ]
  },
  {
   "cell_type": "code",
   "execution_count": null,
   "id": "7aafce3f-e337-465f-acc4-5d2d0bbd584c",
   "metadata": {},
   "outputs": [],
   "source": [
    "import folium\n",
    "colors = ['red', 'blue', 'green', 'purple', 'orange', 'darkred', \\\n",
    "     'lightred', 'beige', 'darkblue', 'darkgreen', 'cadetblue', \\\n",
    "     'darkpurple', 'pink', 'lightblue', 'lightgreen', 'gray', \\\n",
    "     'black', 'lightgray', 'red', 'blue', 'green', 'purple', \\\n",
    "     'orange', 'darkred', 'lightred', 'beige', 'darkblue', \\\n",
    "     'darkgreen', 'cadetblue', 'darkpurple','pink', 'lightblue', \\\n",
    "     'lightgreen', 'gray', 'black', 'lightgray' ]\n",
    "print(len(colors))\n",
    "lat = data.iloc[0]['XCOORD']\n",
    "lng = data.iloc[0]['YCOORD']\n",
    "map = folium.Map(location=[lat, lng], zoom_start=12)\n",
    "for _, row in data.iterrows():\n",
    "    folium.CircleMarker(\n",
    "        location=[row[\"XCOORD\"], row[\"YCOORD\"]],\n",
    "        radius=1, \n",
    "        weight=1, \n",
    "        fill=True, \n",
    "        fill_color=colors[int(row[\"cluster\"])],\n",
    "        color=colors[int(row[\"cluster\"])]\n",
    "    ).add_to(map)\n",
    "map"
   ]
  }
 ],
 "metadata": {
  "kernelspec": {
   "display_name": "Python 3 (ipykernel)",
   "language": "python",
   "name": "python3"
  },
  "language_info": {
   "codemirror_mode": {
    "name": "ipython",
    "version": 3
   },
   "file_extension": ".py",
   "mimetype": "text/x-python",
   "name": "python",
   "nbconvert_exporter": "python",
   "pygments_lexer": "ipython3",
   "version": "3.11.3"
  }
 },
 "nbformat": 4,
 "nbformat_minor": 5
}
